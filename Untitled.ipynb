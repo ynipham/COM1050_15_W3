{
 "cells": [
  {
   "cell_type": "markdown",
   "id": "7b9f02a7-0314-4ba5-85c9-256433ea1fb6",
   "metadata": {},
   "source": [
    "#Hoan doi hai so khong su dung bien tam thoi\n",
    "\n"
   ]
  },
  {
   "cell_type": "code",
   "execution_count": 4,
   "id": "ef01ee8d-5cf8-4dbd-9e98-227bbf16a3de",
   "metadata": {},
   "outputs": [
    {
     "name": "stdin",
     "output_type": "stream",
     "text": [
      " 5 7\n"
     ]
    },
    {
     "name": "stdout",
     "output_type": "stream",
     "text": [
      "Gia tri cua a:5 ; b: 7\n"
     ]
    }
   ],
   "source": [
    "a,b = map(int,input().split())\n",
    "print(f\"Gia tri cua a:{a} ; b: {b}\")"
   ]
  },
  {
   "cell_type": "code",
   "execution_count": 10,
   "id": "c58e6394-8271-4269-834c-f9770786b07b",
   "metadata": {},
   "outputs": [],
   "source": [
    "a=20\n"
   ]
  },
  {
   "cell_type": "code",
   "execution_count": 11,
   "id": "3f7f8af0-8303-4812-81ff-0749b7f7fdc3",
   "metadata": {},
   "outputs": [
    {
     "data": {
      "text/plain": [
       "False"
      ]
     },
     "execution_count": 11,
     "metadata": {},
     "output_type": "execute_result"
    }
   ],
   "source": [
    "a&(a-1)==0"
   ]
  },
  {
   "cell_type": "code",
   "execution_count": null,
   "id": "7310d326-74e3-4b9d-a63b-caf214350c81",
   "metadata": {},
   "outputs": [],
   "source": []
  }
 ],
 "metadata": {
  "kernelspec": {
   "display_name": "Python 3 (ipykernel)",
   "language": "python",
   "name": "python3"
  },
  "language_info": {
   "codemirror_mode": {
    "name": "ipython",
    "version": 3
   },
   "file_extension": ".py",
   "mimetype": "text/x-python",
   "name": "python",
   "nbconvert_exporter": "python",
   "pygments_lexer": "ipython3",
   "version": "3.13.5"
  }
 },
 "nbformat": 4,
 "nbformat_minor": 5
}
