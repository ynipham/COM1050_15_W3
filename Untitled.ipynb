{
 "cells": [
  {
   "cell_type": "code",
   "execution_count": 12,
   "id": "c89109d0-80b6-4855-9cb5-94d436ca36a1",
   "metadata": {},
   "outputs": [
    {
     "name": "stdin",
     "output_type": "stream",
     "text": [
      " 4\n"
     ]
    },
    {
     "data": {
      "text/plain": [
       "True"
      ]
     },
     "execution_count": 12,
     "metadata": {},
     "output_type": "execute_result"
    }
   ],
   "source": [
    "#bai3\n",
    "a=int(input())\n",
    "a&(a-1)==0"
   ]
  },
  {
   "cell_type": "code",
   "execution_count": 23,
   "id": "6196a41a-029c-4bec-90c3-ebc01c6a586e",
   "metadata": {},
   "outputs": [
    {
     "name": "stdin",
     "output_type": "stream",
     "text": [
      " 3 4\n"
     ]
    },
    {
     "ename": "ValueError",
     "evalue": "invalid literal for int() with base 10: '3 4'",
     "output_type": "error",
     "traceback": [
      "\u001b[1;31m---------------------------------------------------------------------------\u001b[0m",
      "\u001b[1;31mValueError\u001b[0m                                Traceback (most recent call last)",
      "Cell \u001b[1;32mIn[23], line 2\u001b[0m\n\u001b[0;32m      1\u001b[0m \u001b[38;5;66;03m#bai4\u001b[39;00m\n\u001b[1;32m----> 2\u001b[0m m, n\u001b[38;5;241m=\u001b[39m \u001b[38;5;28mmap\u001b[39m(\u001b[38;5;28mint\u001b[39m(\u001b[38;5;28minput\u001b[39m()))\u001b[38;5;241m.\u001b[39msplit()\n\u001b[0;32m      3\u001b[0m C\u001b[38;5;241m=\u001b[39m m\u001b[38;5;241m/\u001b[39mn\n\u001b[0;32m      4\u001b[0m \u001b[38;5;28mprint\u001b[39m(\u001b[38;5;124mf\u001b[39m\u001b[38;5;124m\"\u001b[39m\u001b[38;5;124mket qua phep chia m/n= \u001b[39m\u001b[38;5;132;01m{\u001b[39;00mC\u001b[38;5;132;01m}\u001b[39;00m\u001b[38;5;124m,2f\u001b[39m\u001b[38;5;124m\"\u001b[39m)\n",
      "\u001b[1;31mValueError\u001b[0m: invalid literal for int() with base 10: '3 4'"
     ]
    }
   ],
   "source": [
    "#bai4\n",
    "m=\n",
    "C= m/n\n",
    "print(f\"ket qua phep chia m/n= {C},2f\")"
   ]
  },
  {
   "cell_type": "code",
   "execution_count": null,
   "id": "c021dd06-78ce-433d-b1af-fed8986e269a",
   "metadata": {},
   "outputs": [],
   "source": [
    "#bai5\n"
   ]
  }
 ],
 "metadata": {
  "kernelspec": {
   "display_name": "Python 3 (ipykernel)",
   "language": "python",
   "name": "python3"
  },
  "language_info": {
   "codemirror_mode": {
    "name": "ipython",
    "version": 3
   },
   "file_extension": ".py",
   "mimetype": "text/x-python",
   "name": "python",
   "nbconvert_exporter": "python",
   "pygments_lexer": "ipython3",
   "version": "3.13.5"
  }
 },
 "nbformat": 4,
 "nbformat_minor": 5
}
