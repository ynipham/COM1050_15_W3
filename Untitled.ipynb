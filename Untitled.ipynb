{
 "cells": [
  {
   "cell_type": "code",
   "execution_count": 143,
   "id": "9beffb5c-78a1-41ea-910a-0858b8e352ef",
   "metadata": {},
   "outputs": [
    {
     "name": "stdout",
     "output_type": "stream",
     "text": [
      "7 5\n"
     ]
    }
   ],
   "source": [
    "#bai2\n",
    "a=5\n",
    "b=7\n",
    "a=a^b\n",
    "b=a^b\n",
    "a=a^b\n",
    "print(a, b)"
   ]
  },
  {
   "cell_type": "code",
   "execution_count": 12,
   "id": "c89109d0-80b6-4855-9cb5-94d436ca36a1",
   "metadata": {},
   "outputs": [
    {
     "name": "stdin",
     "output_type": "stream",
     "text": [
      " 4\n"
     ]
    },
    {
     "data": {
      "text/plain": [
       "True"
      ]
     },
     "execution_count": 12,
     "metadata": {},
     "output_type": "execute_result"
    }
   ],
   "source": [
    "#bai3\n",
    "a=int(input())\n",
    "a&(a-1)==0"
   ]
  },
  {
   "cell_type": "code",
   "execution_count": 118,
   "id": "6196a41a-029c-4bec-90c3-ebc01c6a586e",
   "metadata": {},
   "outputs": [
    {
     "name": "stdout",
     "output_type": "stream",
     "text": [
      "ket qua phep chia m/n= 0\n"
     ]
    }
   ],
   "source": [
    "#bai4\n",
    "import math\n",
    "m=5\n",
    "n=7\n",
    "C= m/n\n",
    "print(f\"ket qua phep chia m/n= {math.floor(C)}\")"
   ]
  },
  {
   "cell_type": "code",
   "execution_count": 142,
   "id": "c021dd06-78ce-433d-b1af-fed8986e269a",
   "metadata": {},
   "outputs": [
    {
     "name": "stdout",
     "output_type": "stream",
     "text": [
      "ket qua phep chia m/n= 2\n"
     ]
    }
   ],
   "source": [
    "#bai5\n",
    "import math\n",
    "m=6\n",
    "n=4\n",
    "C=m/n\n",
    "print(f\"ket qua phep chia m/n= {math.ceil(C)}\")"
   ]
  },
  {
   "cell_type": "code",
   "execution_count": 1,
   "id": "21f80b3a-21b1-4ac8-aaa5-7a9b7080265a",
   "metadata": {},
   "outputs": [
    {
     "name": "stdout",
     "output_type": "stream",
     "text": [
      "odd\n"
     ]
    }
   ],
   "source": [
    "#bai6\n",
    "x=5\n",
    "if x % 2 ==0:\n",
    "    print(\"even\")\n",
    "else:\n",
    "    print(\"odd\")"
   ]
  },
  {
   "cell_type": "code",
   "execution_count": 4,
   "id": "2783a69f-554e-4a82-844b-693396f809f9",
   "metadata": {},
   "outputs": [
    {
     "name": "stdout",
     "output_type": "stream",
     "text": [
      "Yes\n"
     ]
    }
   ],
   "source": [
    "#bai7\n",
    "a=-1\n",
    "b=-2\n",
    "if a*b>0:\n",
    "    if a<0:\n",
    "        print(\"Yes\")\n",
    "    else:\n",
    "        print(\"No\")\n",
    "else:\n",
    "    print(\"No\")"
   ]
  },
  {
   "cell_type": "code",
   "execution_count": 5,
   "id": "12332517-1cb8-4ccc-a9a9-1919014fb6b6",
   "metadata": {},
   "outputs": [
    {
     "name": "stdout",
     "output_type": "stream",
     "text": [
      "False\n"
     ]
    }
   ],
   "source": [
    "#bai8\n",
    "a= 'Hello world'\n",
    "b= 'Python Programming'\n",
    "if len(a)> len(b):\n",
    "    print(\"True\")\n",
    "else:\n",
    "    print(\"False\")"
   ]
  },
  {
   "cell_type": "code",
   "execution_count": 12,
   "id": "9532454e-efad-4b54-b2ac-ef74bfb2cd38",
   "metadata": {},
   "outputs": [
    {
     "name": "stdout",
     "output_type": "stream",
     "text": [
      "Yes\n"
     ]
    }
   ],
   "source": [
    "#bai9\n",
    "a=3\n",
    "b=4\n",
    "c=5\n",
    "if a+b>c:\n",
    "    if a-b < c:\n",
    "        print(\"Yes\")\n",
    "    else:\n",
    "        print(\"No\")\n",
    "else:\n",
    "    print(\"No\")\n",
    "        "
   ]
  },
  {
   "cell_type": "code",
   "execution_count": 84,
   "id": "3b7d7c64-d36b-4e52-86c5-3d6995c7113a",
   "metadata": {},
   "outputs": [
    {
     "name": "stdin",
     "output_type": "stream",
     "text": [
      " 1 2 3 4\n"
     ]
    },
    {
     "name": "stdout",
     "output_type": "stream",
     "text": [
      "4\n"
     ]
    }
   ],
   "source": [
    "#bai10\n",
    "numbers=list(map(int,input().split()))\n",
    "max=numbers[0]\n",
    "for i in numbers:\n",
    "     if i > max:\n",
    "         max=i\n",
    "print(i)\n",
    "         \n",
    "\n"
   ]
  },
  {
   "cell_type": "code",
   "execution_count": 88,
   "id": "449e6aaa-3339-4f19-8f33-6feb55c84e7d",
   "metadata": {},
   "outputs": [
    {
     "name": "stdin",
     "output_type": "stream",
     "text": [
      " 3 5 8 \n"
     ]
    },
    {
     "name": "stdout",
     "output_type": "stream",
     "text": [
      "Không phải tam giác\n"
     ]
    }
   ],
   "source": [
    "#bai11\n",
    "a,b,c=map(int,input().split())\n",
    "if a+b>c and a-b<c:\n",
    "    if a**2+b**2==c**2 or a**2+c**2==b**2 or b**2+c**2==a**2:\n",
    "       print(\"Tam giác vuông\")\n",
    "    elif a==b or a==c or b==c:\n",
    "        print(\"Tam giác cân\")\n",
    "    elif a==b==c:\n",
    "        print(\"Tam giác đều\")\n",
    "    else:\n",
    "        print(\"Tam giác thường\")\n",
    "else:\n",
    "    print(\"Không phải tam giác\")\n",
    "       \n",
    "    "
   ]
  },
  {
   "cell_type": "code",
   "execution_count": 94,
   "id": "e0cc8fd3-ef63-4b74-aa45-7e80886ebd8a",
   "metadata": {},
   "outputs": [
    {
     "name": "stdin",
     "output_type": "stream",
     "text": [
      " 3636\n"
     ]
    },
    {
     "name": "stdout",
     "output_type": "stream",
     "text": [
      "Yes\n"
     ]
    }
   ],
   "source": [
    "#bai12\n",
    "năm=int(input())\n",
    "if (năm%400==0) or (năm %4==0 and năm%100!=0):\n",
    "    print(\"Yes\")\n",
    "else:\n",
    "    print(\"No\")\n"
   ]
  },
  {
   "cell_type": "code",
   "execution_count": 124,
   "id": "e5ac2023-fdb9-419c-bcca-9f188a6edc13",
   "metadata": {},
   "outputs": [
    {
     "name": "stdin",
     "output_type": "stream",
     "text": [
      " 0\n",
      " 0\n"
     ]
    },
    {
     "name": "stdout",
     "output_type": "stream",
     "text": [
      "Vô số nghiệm\n"
     ]
    }
   ],
   "source": [
    "#bai14\n",
    "a=float(input())\n",
    "b=float(input())\n",
    "a*x+b==0\n",
    "if a==0:\n",
    "    if b==0:\n",
    "        print(\"Vô số nghiệm\")\n",
    "    else:\n",
    "        print(\"Vô nghiệm\")\n",
    "else:\n",
    "    print(x)"
   ]
  },
  {
   "cell_type": "code",
   "execution_count": 125,
   "id": "86d8306d-d270-4172-96aa-6e3caf64a809",
   "metadata": {},
   "outputs": [
    {
     "name": "stdin",
     "output_type": "stream",
     "text": [
      " 5.45\n"
     ]
    },
    {
     "name": "stdout",
     "output_type": "stream",
     "text": [
      "Trung bình\n"
     ]
    }
   ],
   "source": [
    "#bai15\n",
    "def xep_loai_hoc_luc():\n",
    "    score=float(input())\n",
    "    if score>10 or score<0:\n",
    "        print(\"error\")\n",
    "    elif score>=8.0:\n",
    "        print(\"Giỏi\")\n",
    "    elif score>=6.5:\n",
    "        print(\"Khá\")\n",
    "    elif score>=5.0:\n",
    "        print(\"Trung bình\")\n",
    "    else:\n",
    "        print(\"Yếu\")\n",
    "xep_loai_hoc_luc()"
   ]
  },
  {
   "cell_type": "code",
   "execution_count": 136,
   "id": "f4d59c09-39f0-435a-a72a-c0a4c7888b2f",
   "metadata": {},
   "outputs": [
    {
     "name": "stdin",
     "output_type": "stream",
     "text": [
      " 18.36\n"
     ]
    },
    {
     "name": "stdout",
     "output_type": "stream",
     "text": [
      "19 18 18\n"
     ]
    }
   ],
   "source": [
    "#bai16\n",
    "a=float(input())\n",
    "lam_tron_xuong=int(a)\n",
    "lam_tron_len=int(a)+1\n",
    "def lam_tron_gan_nhat():\n",
    "    if a-int(a)>0.5:\n",
    "        return(lam_tron_len)\n",
    "    else:\n",
    "        return(lam_tron_xuong)\n",
    "print(lam_tron_len, lam_tron_xuong, lam_tron_gan_nhat())\n"
   ]
  },
  {
   "cell_type": "code",
   "execution_count": 141,
   "id": "3652fe98-4fdf-46bf-ab31-c3f952eede24",
   "metadata": {},
   "outputs": [
    {
     "name": "stdin",
     "output_type": "stream",
     "text": [
      " 1 3 9 27\n"
     ]
    },
    {
     "name": "stdout",
     "output_type": "stream",
     "text": [
      "True\n"
     ]
    }
   ],
   "source": [
    "#bai17\n",
    "a,b,c,d=map(int,input().split())\n",
    "q=b/a\n",
    "if b%a==0:\n",
    "    if b*q==c and c*q==d:\n",
    "        print(\"True\")\n",
    "    else:\n",
    "        print(\"False\")\n",
    "else:\n",
    "    print(\"False\")"
   ]
  }
 ],
 "metadata": {
  "kernelspec": {
   "display_name": "Python 3 (ipykernel)",
   "language": "python",
   "name": "python3"
  },
  "language_info": {
   "codemirror_mode": {
    "name": "ipython",
    "version": 3
   },
   "file_extension": ".py",
   "mimetype": "text/x-python",
   "name": "python",
   "nbconvert_exporter": "python",
   "pygments_lexer": "ipython3",
   "version": "3.13.5"
  }
 },
 "nbformat": 4,
 "nbformat_minor": 5
}
