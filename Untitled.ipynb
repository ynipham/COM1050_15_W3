{
 "cells": [
  {
   "cell_type": "code",
   "execution_count": 12,
   "id": "c89109d0-80b6-4855-9cb5-94d436ca36a1",
   "metadata": {},
   "outputs": [
    {
     "name": "stdin",
     "output_type": "stream",
     "text": [
      " 4\n"
     ]
    },
    {
     "data": {
      "text/plain": [
       "True"
      ]
     },
     "execution_count": 12,
     "metadata": {},
     "output_type": "execute_result"
    }
   ],
   "source": [
    "#bai3\n",
    "a=int(input())\n",
    "a&(a-1)==0"
   ]
  },
  {
   "cell_type": "code",
   "execution_count": 25,
   "id": "6196a41a-029c-4bec-90c3-ebc01c6a586e",
   "metadata": {},
   "outputs": [
    {
     "name": "stdout",
     "output_type": "stream",
     "text": [
      "ket qua phep chia m/n= 0.7142857142857143,1f\n"
     ]
    }
   ],
   "source": [
    "#bai4\n",
    "m=5\n",
    "n=7\n",
    "C= m/n\n",
    "print(f\"ket qua phep chia m/n= {C},1f\")"
   ]
  },
  {
   "cell_type": "code",
   "execution_count": null,
   "id": "c021dd06-78ce-433d-b1af-fed8986e269a",
   "metadata": {},
   "outputs": [],
   "source": [
    "#bai5\n"
   ]
  }
 ],
 "metadata": {
  "kernelspec": {
   "display_name": "Python 3 (ipykernel)",
   "language": "python",
   "name": "python3"
  },
  "language_info": {
   "codemirror_mode": {
    "name": "ipython",
    "version": 3
   },
   "file_extension": ".py",
   "mimetype": "text/x-python",
   "name": "python",
   "nbconvert_exporter": "python",
   "pygments_lexer": "ipython3",
   "version": "3.13.5"
  }
 },
 "nbformat": 4,
 "nbformat_minor": 5
}
